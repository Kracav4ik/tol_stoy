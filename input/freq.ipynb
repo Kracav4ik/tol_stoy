{
 "cells": [
  {
   "cell_type": "code",
   "execution_count": null,
   "metadata": {
    "collapsed": true
   },
   "outputs": [],
   "source": [
    "%matplotlib inline\n",
    "import numpy as np\n",
    "import matplotlib.pyplot as plt\n",
    "\n",
    "\n",
    "def get_nums(path):\n",
    "    with open(path) as f:\n",
    "        return [int(s.strip().split()[-1]) for s in f][1:]\n",
    "\n",
    "\n",
    "fig, axes = plt.subplots(nrows=2, ncols=3)\n",
    "\n",
    "w100_f = get_nums('../../baseline/vocab.txt')\n",
    "text_f = get_nums('../savedata/vocab.txt')\n",
    "count = (100, 500, 2000)\n",
    "\n",
    "for i in range(3):\n",
    "    axes[0, i].plot(w100_f[:count[i]])\n",
    "    axes[0, i].set_title('W100 %d' % count[i])\n",
    "\n",
    "for i in range(3):\n",
    "    axes[1, i].plot(text_f[:count[i]])\n",
    "    axes[1, i].set_title('text %d' % count[i])"
   ]
  }
 ],
 "metadata": {
  "kernelspec": {
   "display_name": "Python 2",
   "language": "python",
   "name": "python2"
  },
  "language_info": {
   "codemirror_mode": {
    "name": "ipython",
    "version": 2.0
   },
   "file_extension": ".py",
   "mimetype": "text/x-python",
   "name": "python",
   "nbconvert_exporter": "python",
   "pygments_lexer": "ipython2",
   "version": "2.7.6"
  }
 },
 "nbformat": 4,
 "nbformat_minor": 0
}